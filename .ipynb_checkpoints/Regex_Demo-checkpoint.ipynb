{
 "cells": [
  {
   "cell_type": "code",
   "execution_count": 0,
   "metadata": {
    "colab": {},
    "colab_type": "code",
    "id": "l9fxs_4ZqapY"
   },
   "outputs": [],
   "source": [
    "import re"
   ]
  },
  {
   "cell_type": "markdown",
   "metadata": {
    "colab_type": "text",
    "id": "FA3HIIQnqapb"
   },
   "source": [
    "* Raw string: string prefixed with r\n",
    "* e.g. r'\\tPython'"
   ]
  },
  {
   "cell_type": "code",
   "execution_count": 5,
   "metadata": {
    "colab": {
     "base_uri": "https://localhost:8080/",
     "height": 50
    },
    "colab_type": "code",
    "id": "HvWFS9TYqapc",
    "outputId": "81011184-111b-49b6-9d87-6acb7016f4bc"
   },
   "outputs": [
    {
     "name": "stdout",
     "output_type": "stream",
     "text": [
      "<_sre.SRE_Match object; span=(0, 6), match='Python'>\n",
      "<_sre.SRE_Match object; span=(18, 24), match='Python'>\n"
     ]
    }
   ],
   "source": [
    "pattern = re.compile(r'Python')\n",
    "text_to_search_1 = \"Python is fun and Python is a snake\"\n",
    "matches = pattern.finditer(text_to_search_1)\n",
    "for match in matches:\n",
    "    print(match)"
   ]
  },
  {
   "cell_type": "code",
   "execution_count": 19,
   "metadata": {
    "colab": {
     "base_uri": "https://localhost:8080/",
     "height": 34
    },
    "colab_type": "code",
    "id": "5OQqsi6uqape",
    "outputId": "f6401463-64f7-487d-d808-53be6a5a3503"
   },
   "outputs": [
    {
     "name": "stdout",
     "output_type": "stream",
     "text": [
      "<_sre.SRE_Match object; span=(29, 39), match='google.com'>\n"
     ]
    }
   ],
   "source": [
    "text_to_search_2 = \"This is a website: www.colab.google.com. Through out the 10-week study, we will use Python extensitvely!\"\n",
    "\n",
    "pattern = re.compile(r'google\\.com')\n",
    "# we need to escape dot\n",
    "matches = pattern.finditer(text_to_search_2)\n",
    "for match in matches:\n",
    "    print(match)"
   ]
  },
  {
   "cell_type": "markdown",
   "metadata": {
    "colab_type": "text",
    "id": "R26T-mTuqaph"
   },
   "source": [
    "##### In Python\n",
    "\n",
    "\n",
    "* .  - Any character except new line\n",
    "* \\d - Digit (0-9)\n",
    "* \\D - Not a Digit (0-9)\n",
    "* \\w - Word character (a-z, A-Z, 0-9)\n",
    "* \\W - Not a word character\n",
    "* \\s - Whitespace (space, tab, newline)\n",
    "* \\S - Not whitespace\n",
    "\n",
    "##### Anchors\n",
    "* \\b - Word boundary\n",
    "* \\B - Not a word boundary\n",
    "* ^  - Beginning of a string\n",
    "* $  - End of a string\n",
    "\n",
    "* []  - Matches characters in brackets\n",
    "* [^] - Matches characters not in brackets\n",
    "\n",
    "##### Quantifiers:\n",
    "\n",
    "* \"*\" - 0 or more\n",
    "* \"+\" - 1 or more\n",
    "* ? - 0 or one\n",
    "* {m} - Exact number\n",
    "* {m, n} - Range of numbers"
   ]
  },
  {
   "cell_type": "code",
   "execution_count": 11,
   "metadata": {
    "colab": {
     "base_uri": "https://localhost:8080/",
     "height": 34
    },
    "colab_type": "code",
    "id": "1vcFJK98qapi",
    "outputId": "c4bf53d4-83d8-41cf-afd7-b7e30dbf6ab4"
   },
   "outputs": [
    {
     "name": "stdout",
     "output_type": "stream",
     "text": [
      "<_sre.SRE_Match object; span=(0, 4), match='This'>\n"
     ]
    }
   ],
   "source": [
    "pattern = re.compile(r'^This')\n",
    "\n",
    "matches = pattern.finditer(text_to_search_2)\n",
    "for match in matches:\n",
    "    print(match)"
   ]
  },
  {
   "cell_type": "code",
   "execution_count": 14,
   "metadata": {
    "colab": {
     "base_uri": "https://localhost:8080/",
     "height": 1000
    },
    "colab_type": "code",
    "id": "m6tsWSnzqapk",
    "outputId": "555bed1b-d13c-4471-fbac-634cb05dba5b"
   },
   "outputs": [
    {
     "name": "stdout",
     "output_type": "stream",
     "text": [
      "<_sre.SRE_Match object; span=(0, 1), match='T'>\n",
      "<_sre.SRE_Match object; span=(1, 2), match='h'>\n",
      "<_sre.SRE_Match object; span=(2, 3), match='i'>\n",
      "<_sre.SRE_Match object; span=(3, 4), match='s'>\n",
      "<_sre.SRE_Match object; span=(4, 5), match=' '>\n",
      "<_sre.SRE_Match object; span=(5, 6), match='i'>\n",
      "<_sre.SRE_Match object; span=(6, 7), match='s'>\n",
      "<_sre.SRE_Match object; span=(7, 8), match=' '>\n",
      "<_sre.SRE_Match object; span=(8, 9), match='a'>\n",
      "<_sre.SRE_Match object; span=(9, 10), match=' '>\n",
      "<_sre.SRE_Match object; span=(10, 11), match='w'>\n",
      "<_sre.SRE_Match object; span=(11, 12), match='e'>\n",
      "<_sre.SRE_Match object; span=(12, 13), match='b'>\n",
      "<_sre.SRE_Match object; span=(13, 14), match='s'>\n",
      "<_sre.SRE_Match object; span=(14, 15), match='i'>\n",
      "<_sre.SRE_Match object; span=(15, 16), match='t'>\n",
      "<_sre.SRE_Match object; span=(16, 17), match='e'>\n",
      "<_sre.SRE_Match object; span=(17, 18), match=':'>\n",
      "<_sre.SRE_Match object; span=(18, 19), match=' '>\n",
      "<_sre.SRE_Match object; span=(19, 20), match='w'>\n",
      "<_sre.SRE_Match object; span=(20, 21), match='w'>\n",
      "<_sre.SRE_Match object; span=(21, 22), match='w'>\n",
      "<_sre.SRE_Match object; span=(22, 23), match='.'>\n",
      "<_sre.SRE_Match object; span=(23, 24), match='c'>\n",
      "<_sre.SRE_Match object; span=(24, 25), match='o'>\n",
      "<_sre.SRE_Match object; span=(25, 26), match='l'>\n",
      "<_sre.SRE_Match object; span=(26, 27), match='a'>\n",
      "<_sre.SRE_Match object; span=(27, 28), match='b'>\n",
      "<_sre.SRE_Match object; span=(28, 29), match='.'>\n",
      "<_sre.SRE_Match object; span=(29, 30), match='g'>\n",
      "<_sre.SRE_Match object; span=(30, 31), match='o'>\n",
      "<_sre.SRE_Match object; span=(31, 32), match='o'>\n",
      "<_sre.SRE_Match object; span=(32, 33), match='g'>\n",
      "<_sre.SRE_Match object; span=(33, 34), match='l'>\n",
      "<_sre.SRE_Match object; span=(34, 35), match='e'>\n",
      "<_sre.SRE_Match object; span=(35, 36), match='.'>\n",
      "<_sre.SRE_Match object; span=(36, 37), match='c'>\n",
      "<_sre.SRE_Match object; span=(37, 38), match='o'>\n",
      "<_sre.SRE_Match object; span=(38, 39), match='m'>\n",
      "<_sre.SRE_Match object; span=(39, 40), match='.'>\n",
      "<_sre.SRE_Match object; span=(40, 41), match=' '>\n",
      "<_sre.SRE_Match object; span=(41, 42), match='T'>\n",
      "<_sre.SRE_Match object; span=(42, 43), match='h'>\n",
      "<_sre.SRE_Match object; span=(43, 44), match='r'>\n",
      "<_sre.SRE_Match object; span=(44, 45), match='o'>\n",
      "<_sre.SRE_Match object; span=(45, 46), match='u'>\n",
      "<_sre.SRE_Match object; span=(46, 47), match='g'>\n",
      "<_sre.SRE_Match object; span=(47, 48), match='h'>\n",
      "<_sre.SRE_Match object; span=(48, 49), match=' '>\n",
      "<_sre.SRE_Match object; span=(49, 50), match='o'>\n",
      "<_sre.SRE_Match object; span=(50, 51), match='u'>\n",
      "<_sre.SRE_Match object; span=(51, 52), match='t'>\n",
      "<_sre.SRE_Match object; span=(52, 53), match=' '>\n",
      "<_sre.SRE_Match object; span=(53, 54), match='t'>\n",
      "<_sre.SRE_Match object; span=(54, 55), match='h'>\n",
      "<_sre.SRE_Match object; span=(55, 56), match='e'>\n",
      "<_sre.SRE_Match object; span=(56, 57), match=' '>\n",
      "<_sre.SRE_Match object; span=(57, 58), match='1'>\n",
      "<_sre.SRE_Match object; span=(58, 59), match='0'>\n",
      "<_sre.SRE_Match object; span=(59, 60), match='-'>\n",
      "<_sre.SRE_Match object; span=(60, 61), match='w'>\n",
      "<_sre.SRE_Match object; span=(61, 62), match='e'>\n",
      "<_sre.SRE_Match object; span=(62, 63), match='e'>\n",
      "<_sre.SRE_Match object; span=(63, 64), match='k'>\n",
      "<_sre.SRE_Match object; span=(64, 65), match=' '>\n",
      "<_sre.SRE_Match object; span=(65, 66), match='s'>\n",
      "<_sre.SRE_Match object; span=(66, 67), match='t'>\n",
      "<_sre.SRE_Match object; span=(67, 68), match='u'>\n",
      "<_sre.SRE_Match object; span=(68, 69), match='d'>\n",
      "<_sre.SRE_Match object; span=(69, 70), match='y'>\n",
      "<_sre.SRE_Match object; span=(70, 71), match=','>\n",
      "<_sre.SRE_Match object; span=(71, 72), match=' '>\n",
      "<_sre.SRE_Match object; span=(72, 73), match='w'>\n",
      "<_sre.SRE_Match object; span=(73, 74), match='e'>\n",
      "<_sre.SRE_Match object; span=(74, 75), match=' '>\n",
      "<_sre.SRE_Match object; span=(75, 76), match='w'>\n",
      "<_sre.SRE_Match object; span=(76, 77), match='i'>\n",
      "<_sre.SRE_Match object; span=(77, 78), match='l'>\n",
      "<_sre.SRE_Match object; span=(78, 79), match='l'>\n",
      "<_sre.SRE_Match object; span=(79, 80), match=' '>\n",
      "<_sre.SRE_Match object; span=(80, 81), match='u'>\n",
      "<_sre.SRE_Match object; span=(81, 82), match='s'>\n",
      "<_sre.SRE_Match object; span=(82, 83), match='e'>\n",
      "<_sre.SRE_Match object; span=(83, 84), match=' '>\n",
      "<_sre.SRE_Match object; span=(84, 85), match='P'>\n",
      "<_sre.SRE_Match object; span=(85, 86), match='y'>\n",
      "<_sre.SRE_Match object; span=(86, 87), match='t'>\n",
      "<_sre.SRE_Match object; span=(87, 88), match='h'>\n",
      "<_sre.SRE_Match object; span=(88, 89), match='o'>\n",
      "<_sre.SRE_Match object; span=(89, 90), match='n'>\n",
      "<_sre.SRE_Match object; span=(90, 91), match=' '>\n",
      "<_sre.SRE_Match object; span=(91, 92), match='e'>\n",
      "<_sre.SRE_Match object; span=(92, 93), match='x'>\n",
      "<_sre.SRE_Match object; span=(93, 94), match='t'>\n",
      "<_sre.SRE_Match object; span=(94, 95), match='e'>\n",
      "<_sre.SRE_Match object; span=(95, 96), match='n'>\n",
      "<_sre.SRE_Match object; span=(96, 97), match='s'>\n",
      "<_sre.SRE_Match object; span=(97, 98), match='i'>\n",
      "<_sre.SRE_Match object; span=(98, 99), match='t'>\n",
      "<_sre.SRE_Match object; span=(99, 100), match='v'>\n",
      "<_sre.SRE_Match object; span=(100, 101), match='e'>\n",
      "<_sre.SRE_Match object; span=(101, 102), match='l'>\n",
      "<_sre.SRE_Match object; span=(102, 103), match='y'>\n",
      "<_sre.SRE_Match object; span=(103, 104), match='.'>\n"
     ]
    }
   ],
   "source": [
    "\n",
    "pattern = re.compile(r'.')\n",
    "\n",
    "matches = pattern.finditer(text_to_search_2)\n",
    "for match in matches:\n",
    "    print(match)"
   ]
  },
  {
   "cell_type": "code",
   "execution_count": 15,
   "metadata": {
    "colab": {
     "base_uri": "https://localhost:8080/",
     "height": 50
    },
    "colab_type": "code",
    "id": "ySntUO-Sqapm",
    "outputId": "ae4e5bc3-b05d-4e6e-b6fc-80160d0ab79f"
   },
   "outputs": [
    {
     "name": "stdout",
     "output_type": "stream",
     "text": [
      "<_sre.SRE_Match object; span=(57, 58), match='1'>\n",
      "<_sre.SRE_Match object; span=(58, 59), match='0'>\n"
     ]
    }
   ],
   "source": [
    "pattern = re.compile(r'\\d')\n",
    "\n",
    "matches = pattern.finditer(text_to_search_2)\n",
    "for match in matches:\n",
    "    print(match)"
   ]
  },
  {
   "cell_type": "code",
   "execution_count": 16,
   "metadata": {
    "colab": {
     "base_uri": "https://localhost:8080/",
     "height": 34
    },
    "colab_type": "code",
    "id": "yHpiRR4Kqapp",
    "outputId": "c3a8cd3c-749d-4bbe-8326-4ec71c15dc02"
   },
   "outputs": [
    {
     "name": "stdout",
     "output_type": "stream",
     "text": [
      "<_sre.SRE_Match object; span=(5, 7), match='is'>\n"
     ]
    }
   ],
   "source": [
    "pattern = re.compile(r'\\bis')\n",
    "\n",
    "matches = pattern.finditer(text_to_search_2)\n",
    "for match in matches:\n",
    "    print(match)"
   ]
  },
  {
   "cell_type": "code",
   "execution_count": 17,
   "metadata": {
    "colab": {
     "base_uri": "https://localhost:8080/",
     "height": 34
    },
    "colab_type": "code",
    "id": "o7ljQI3iqapr",
    "outputId": "43762463-f5ce-452c-bbad-8f8d8a196553"
   },
   "outputs": [
    {
     "name": "stdout",
     "output_type": "stream",
     "text": [
      "<_sre.SRE_Match object; span=(2, 4), match='is'>\n"
     ]
    }
   ],
   "source": [
    "pattern = re.compile(r'\\Bis')\n",
    "\n",
    "matches = pattern.finditer(text_to_search_2)\n",
    "for match in matches:\n",
    "    print(match)"
   ]
  },
  {
   "cell_type": "code",
   "execution_count": 0,
   "metadata": {
    "colab": {},
    "colab_type": "code",
    "id": "6Q47Tgxdqapt"
   },
   "outputs": [],
   "source": [
    "pattern = re.compile(r'\\.$')\n",
    "# we need to escape dot\n",
    "matches = pattern.finditer(text_to_search_2)\n",
    "for match in matches:\n",
    "    print(match)"
   ]
  },
  {
   "cell_type": "markdown",
   "metadata": {
    "colab_type": "text",
    "id": "0cIFjv6aqapv"
   },
   "source": [
    "#### In-class Examples:\n",
    "\n",
    "* write the regular expression for a U.S. phone number in the form of xxx-xxx-xxxx or xxx.xxx.xxxx\n",
    "\n",
    "* write the regular expression for a U.S. phone number in NYC that starts with 917-xxx-xxxx\n",
    "\n",
    "* write the regular expression for Mr. Xx, Mrs. Xx, or Ms Xx"
   ]
  },
  {
   "cell_type": "code",
   "execution_count": 23,
   "metadata": {
    "colab": {
     "base_uri": "https://localhost:8080/",
     "height": 50
    },
    "colab_type": "code",
    "id": "QqFihvaTqapw",
    "outputId": "a1354be4-0c52-49db-a090-6fa02fa069b8"
   },
   "outputs": [
    {
     "name": "stdout",
     "output_type": "stream",
     "text": [
      "<_sre.SRE_Match object; span=(2, 14), match='218-309-2310'>\n",
      "<_sre.SRE_Match object; span=(15, 27), match='212.355.3234'>\n"
     ]
    }
   ],
   "source": [
    "text_to_search = \"\"\"\n",
    "\n",
    "218-309-2310\n",
    "212.355.3234\n",
    "213+343+2343\n",
    "23-232-354\n",
    "\"\"\"\n",
    "pattern = re.compile(r'\\d{3}[-.]\\d{3}[-.]\\d{4}')\n",
    "# we need to escape dot\n",
    "matches = pattern.finditer(text_to_search)\n",
    "for match in matches:\n",
    "    print(match)\n",
    "    \n",
    "    \n",
    "\n",
    "\n",
    "    \n",
    "    \n"
   ]
  },
  {
   "cell_type": "code",
   "execution_count": 0,
   "metadata": {
    "colab": {},
    "colab_type": "code",
    "id": "9u6SxKhyqapy"
   },
   "outputs": [],
   "source": [
    "pattern = re.compile(r'917[-.]\\d{3}[-.]\\d{4}')\n",
    "# we need to escape dot\n",
    "matches = pattern.finditer(text_to_search)\n",
    "for match in matches:\n",
    "    print(match)"
   ]
  },
  {
   "cell_type": "code",
   "execution_count": 33,
   "metadata": {
    "colab": {
     "base_uri": "https://localhost:8080/",
     "height": 50
    },
    "colab_type": "code",
    "id": "WS6sGnzjv-0S",
    "outputId": "73e8825e-9b65-4e4b-cde5-5cc8f71ecdea"
   },
   "outputs": [
    {
     "name": "stdout",
     "output_type": "stream",
     "text": [
      "<_sre.SRE_Match object; span=(1, 8), match='Ms Owen'>\n",
      "<_sre.SRE_Match object; span=(9, 17), match='Mr. Ford'>\n"
     ]
    }
   ],
   "source": [
    "text_to_search = \"\"\"\n",
    "Ms Owen\n",
    "Mr. Ford\n",
    "\"\"\"\n",
    "\n",
    "'''\n",
    "\n",
    "'''\n",
    "pattern = re.compile(r'(Mr|Mrs|Ms)\\.?\\s[A-Z][a-z]*')\n",
    "# we need to escape dot\n",
    "matches = pattern.finditer(text_to_search)\n",
    "for match in matches:\n",
    "    print(match)"
   ]
  },
  {
   "cell_type": "code",
   "execution_count": 0,
   "metadata": {
    "colab": {},
    "colab_type": "code",
    "id": "iCPITwAOwgxI"
   },
   "outputs": [],
   "source": []
  }
 ],
 "metadata": {
  "colab": {
   "collapsed_sections": [],
   "name": "Regex-Demo.ipynb",
   "provenance": []
  },
  "kernelspec": {
   "display_name": "Python 3",
   "language": "python",
   "name": "python3"
  },
  "language_info": {
   "codemirror_mode": {
    "name": "ipython",
    "version": 3
   },
   "file_extension": ".py",
   "mimetype": "text/x-python",
   "name": "python",
   "nbconvert_exporter": "python",
   "pygments_lexer": "ipython3",
   "version": "3.7.3"
  }
 },
 "nbformat": 4,
 "nbformat_minor": 1
}
