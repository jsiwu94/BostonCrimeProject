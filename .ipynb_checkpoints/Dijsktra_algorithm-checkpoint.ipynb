{
 "cells": [
  {
   "cell_type": "code",
   "execution_count": 21,
   "metadata": {},
   "outputs": [],
   "source": [
    "###Dijkstra Algorithm for Shortest Path\n",
    "\n",
    "graph = {'a':{'b':3,'c':4, 'd':7},\n",
    "            'b':{'c':1,'f':5},\n",
    "            'c':{'f':6,'d':2},\n",
    "            'd':{'e':3, 'g':6},\n",
    "            'e':{'g':3, 'h':4},\n",
    "            'f':{'e':1, 'h':8},\n",
    "            'g':{'h':2},\n",
    "            'h':{'g':2}\n",
    "        }"
   ]
  },
  {
   "cell_type": "code",
   "execution_count": 22,
   "metadata": {},
   "outputs": [],
   "source": [
    "def dijkstra(graph,start,goal):\n",
    "\n",
    "    shortest_distance = {} \n",
    "    #dictionary to record the cost to reach to node. \n",
    "    #We will constantly update this dictionary as we move along the graph.\n",
    "    track_predecessor = {} \n",
    "    #dictionary to keep track of path that led to that node.\n",
    "    unseenNodes = graph \n",
    "    #to iterate through all nodes\n",
    "    infinity = 10000 \n",
    "    #infinity can be considered a very large number\n",
    "    track_path = [] \n",
    "    #dictionary to record as we trace back our journey\n",
    "\n",
    "\n",
    "# =============================================================================\n",
    "# Initially we want to assign 0 as the cost to reach to source node and infinity as cost to all other nodes\n",
    "# =============================================================================\n",
    "\n",
    "    for node in unseenNodes:\n",
    "        shortest_distance[node] = infinity\n",
    "\n",
    "    shortest_distance[start] = 0\n",
    "\n",
    "# =============================================================================\n",
    "# The loop will keep running until we have entirely exhausted the graph, until we have seen all the nodes\n",
    "# =============================================================================\n",
    "# =============================================================================\n",
    "# To iterate through the graph, we need to determine the min_distance_node every time.\n",
    "# =============================================================================\n",
    "\n",
    "    while unseenNodes:\n",
    "        min_distance_node = None\n",
    "\n",
    "        for node in unseenNodes:\n",
    "            if min_distance_node is None:\n",
    "                min_distance_node = node\n",
    "\n",
    "            elif shortest_distance[node] < shortest_distance[min_distance_node]:\n",
    "                min_distance_node = node\n",
    "\n",
    "# =============================================================================\n",
    "# From the minimum node, what are our possible paths\n",
    "# =============================================================================\n",
    "\n",
    "        path_options = graph[min_distance_node].items()\n",
    "\n",
    "\n",
    "# =============================================================================\n",
    "# We have to calculate the cost each time for each path we take \n",
    "#    and only update it if it is lower than the existing cost\n",
    "# =============================================================================\n",
    "\n",
    "        for child_node, weight in path_options:\n",
    "\n",
    "            if weight + shortest_distance[min_distance_node] < shortest_distance[child_node]:\n",
    "\n",
    "                shortest_distance[child_node] = weight + shortest_distance[min_distance_node]\n",
    "\n",
    "                track_predecessor[child_node] = min_distance_node\n",
    "\n",
    "# =============================================================================\n",
    "# We want to pop out the nodes that we have just visited so that we dont iterate over them again.\n",
    "# =============================================================================\n",
    "        unseenNodes.pop(min_distance_node)\n",
    "\n",
    "\n",
    "\n",
    "# =============================================================================\n",
    "# Once we have reached the destination node, we want trace back our path and calculate the total accumulated cost.\n",
    "# =============================================================================\n",
    "\n",
    "    currentNode = goal\n",
    "\n",
    "    while currentNode != start:\n",
    "\n",
    "        try:\n",
    "            track_path.insert(0,currentNode)\n",
    "            currentNode = track_predecessor[currentNode]\n",
    "        except KeyError:\n",
    "            print('Path not reachable')\n",
    "            break\n",
    "    track_path.insert(0,start)\n",
    "\n",
    "\n",
    "# =============================================================================\n",
    "#  If the cost is infinity, the node had not been reached.\n",
    "# =============================================================================\n",
    "    if shortest_distance[goal] != infinity:\n",
    "        print('Shortest distance is ' + str(shortest_distance[goal]))\n",
    "        print('And the path is ' + str(track_path))\n"
   ]
  },
  {
   "cell_type": "code",
   "execution_count": 23,
   "metadata": {},
   "outputs": [
    {
     "name": "stdout",
     "output_type": "stream",
     "text": [
      "Shortest distance is 12\n",
      "And the path is ['a', 'c', 'd', 'g']\n"
     ]
    }
   ],
   "source": [
    "dijkstra(graph, 'a', 'g')"
   ]
  },
  {
   "cell_type": "code",
   "execution_count": 25,
   "metadata": {},
   "outputs": [
    {
     "name": "stdout",
     "output_type": "stream",
     "text": [
      "Path not reachable\n"
     ]
    },
    {
     "ename": "KeyError",
     "evalue": "'g'",
     "output_type": "error",
     "traceback": [
      "\u001b[0;31m---------------------------------------------------------------------------\u001b[0m",
      "\u001b[0;31mKeyError\u001b[0m                                  Traceback (most recent call last)",
      "\u001b[0;32m<ipython-input-25-6ad1a2366b0b>\u001b[0m in \u001b[0;36m<module>\u001b[0;34m\u001b[0m\n\u001b[0;32m----> 1\u001b[0;31m \u001b[0mdijkstra\u001b[0m\u001b[0;34m(\u001b[0m\u001b[0mgraph\u001b[0m\u001b[0;34m,\u001b[0m \u001b[0;34m'a'\u001b[0m\u001b[0;34m,\u001b[0m \u001b[0;34m'g'\u001b[0m\u001b[0;34m)\u001b[0m\u001b[0;34m\u001b[0m\u001b[0;34m\u001b[0m\u001b[0m\n\u001b[0m",
      "\u001b[0;32m<ipython-input-22-8a7ee1d1149c>\u001b[0m in \u001b[0;36mdijkstra\u001b[0;34m(graph, start, goal)\u001b[0m\n\u001b[1;32m     87\u001b[0m \u001b[0;31m#  If the cost is infinity, the node had not been reached.\u001b[0m\u001b[0;34m\u001b[0m\u001b[0;34m\u001b[0m\u001b[0;34m\u001b[0m\u001b[0m\n\u001b[1;32m     88\u001b[0m \u001b[0;31m# =============================================================================\u001b[0m\u001b[0;34m\u001b[0m\u001b[0;34m\u001b[0m\u001b[0;34m\u001b[0m\u001b[0m\n\u001b[0;32m---> 89\u001b[0;31m     \u001b[0;32mif\u001b[0m \u001b[0mshortest_distance\u001b[0m\u001b[0;34m[\u001b[0m\u001b[0mgoal\u001b[0m\u001b[0;34m]\u001b[0m \u001b[0;34m!=\u001b[0m \u001b[0minfinity\u001b[0m\u001b[0;34m:\u001b[0m\u001b[0;34m\u001b[0m\u001b[0;34m\u001b[0m\u001b[0m\n\u001b[0m\u001b[1;32m     90\u001b[0m         \u001b[0mprint\u001b[0m\u001b[0;34m(\u001b[0m\u001b[0;34m'Shortest distance is '\u001b[0m \u001b[0;34m+\u001b[0m \u001b[0mstr\u001b[0m\u001b[0;34m(\u001b[0m\u001b[0mshortest_distance\u001b[0m\u001b[0;34m[\u001b[0m\u001b[0mgoal\u001b[0m\u001b[0;34m]\u001b[0m\u001b[0;34m)\u001b[0m\u001b[0;34m)\u001b[0m\u001b[0;34m\u001b[0m\u001b[0;34m\u001b[0m\u001b[0m\n\u001b[1;32m     91\u001b[0m         \u001b[0mprint\u001b[0m\u001b[0;34m(\u001b[0m\u001b[0;34m'And the path is '\u001b[0m \u001b[0;34m+\u001b[0m \u001b[0mstr\u001b[0m\u001b[0;34m(\u001b[0m\u001b[0mtrack_path\u001b[0m\u001b[0;34m)\u001b[0m\u001b[0;34m)\u001b[0m\u001b[0;34m\u001b[0m\u001b[0;34m\u001b[0m\u001b[0m\n",
      "\u001b[0;31mKeyError\u001b[0m: 'g'"
     ]
    }
   ],
   "source": [
    "dijkstra(graph, 'a', 'g')"
   ]
  },
  {
   "cell_type": "code",
   "execution_count": null,
   "metadata": {},
   "outputs": [],
   "source": []
  },
  {
   "cell_type": "code",
   "execution_count": null,
   "metadata": {},
   "outputs": [],
   "source": []
  }
 ],
 "metadata": {
  "kernelspec": {
   "display_name": "Python 3",
   "language": "python",
   "name": "python3"
  },
  "language_info": {
   "codemirror_mode": {
    "name": "ipython",
    "version": 3
   },
   "file_extension": ".py",
   "mimetype": "text/x-python",
   "name": "python",
   "nbconvert_exporter": "python",
   "pygments_lexer": "ipython3",
   "version": "3.7.4"
  }
 },
 "nbformat": 4,
 "nbformat_minor": 2
}
