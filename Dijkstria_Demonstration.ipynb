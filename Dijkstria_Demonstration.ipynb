{
  "nbformat": 4,
  "nbformat_minor": 0,
  "metadata": {
    "colab": {
      "name": "Dijkstria Demonstration",
      "provenance": [],
      "collapsed_sections": []
    },
    "kernelspec": {
      "name": "python3",
      "display_name": "Python 3"
    }
  },
  "cells": [
    {
      "cell_type": "code",
      "metadata": {
        "id": "HfZn31pISLKy",
        "colab_type": "code",
        "colab": {}
      },
      "source": [
        "#Graph Generation and Dijkstria\n",
        "#import geopandas as gpd\n",
        "import pandas as pd\n",
        "import re\n",
        "%matplotlib inline\n",
        "import folium\n",
        "from folium.plugins import MarkerCluster\n",
        "import numpy as np\n",
        "import random"
      ],
      "execution_count": 0,
      "outputs": []
    },
    {
      "cell_type": "code",
      "metadata": {
        "id": "dafwKlXlvj_Z",
        "colab_type": "code",
        "colab": {}
      },
      "source": [
        "result = pd.read_csv('boston_safe_lat&long_filtered.csv').drop(['Unnamed: 0'], axis = 1)"
      ],
      "execution_count": 0,
      "outputs": []
    },
    {
      "cell_type": "code",
      "metadata": {
        "id": "4EUlBA7UOW7I",
        "colab_type": "code",
        "colab": {
          "base_uri": "https://localhost:8080/",
          "height": 197
        },
        "outputId": "8c05e63f-3e8d-4c09-efa8-0d5da13dbd95"
      },
      "source": [
        "result.head()"
      ],
      "execution_count": 3,
      "outputs": [
        {
          "output_type": "execute_result",
          "data": {
            "text/html": [
              "<div>\n",
              "<style scoped>\n",
              "    .dataframe tbody tr th:only-of-type {\n",
              "        vertical-align: middle;\n",
              "    }\n",
              "\n",
              "    .dataframe tbody tr th {\n",
              "        vertical-align: top;\n",
              "    }\n",
              "\n",
              "    .dataframe thead th {\n",
              "        text-align: right;\n",
              "    }\n",
              "</style>\n",
              "<table border=\"1\" class=\"dataframe\">\n",
              "  <thead>\n",
              "    <tr style=\"text-align: right;\">\n",
              "      <th></th>\n",
              "      <th>lat</th>\n",
              "      <th>long</th>\n",
              "    </tr>\n",
              "  </thead>\n",
              "  <tbody>\n",
              "    <tr>\n",
              "      <th>0</th>\n",
              "      <td>42.306212</td>\n",
              "      <td>-71.136502</td>\n",
              "    </tr>\n",
              "    <tr>\n",
              "      <th>1</th>\n",
              "      <td>42.309115</td>\n",
              "      <td>-71.134452</td>\n",
              "    </tr>\n",
              "    <tr>\n",
              "      <th>2</th>\n",
              "      <td>42.311784</td>\n",
              "      <td>-71.132797</td>\n",
              "    </tr>\n",
              "    <tr>\n",
              "      <th>3</th>\n",
              "      <td>42.313186</td>\n",
              "      <td>-71.131863</td>\n",
              "    </tr>\n",
              "    <tr>\n",
              "      <th>4</th>\n",
              "      <td>42.314572</td>\n",
              "      <td>-71.130608</td>\n",
              "    </tr>\n",
              "  </tbody>\n",
              "</table>\n",
              "</div>"
            ],
            "text/plain": [
              "         lat       long\n",
              "0  42.306212 -71.136502\n",
              "1  42.309115 -71.134452\n",
              "2  42.311784 -71.132797\n",
              "3  42.313186 -71.131863\n",
              "4  42.314572 -71.130608"
            ]
          },
          "metadata": {
            "tags": []
          },
          "execution_count": 3
        }
      ]
    },
    {
      "cell_type": "code",
      "metadata": {
        "id": "rrOcFBAnjoCJ",
        "colab_type": "code",
        "colab": {}
      },
      "source": [
        ""
      ],
      "execution_count": 0,
      "outputs": []
    },
    {
      "cell_type": "code",
      "metadata": {
        "id": "yPhPKqX0PHop",
        "colab_type": "code",
        "colab": {}
      },
      "source": [
        "def haversine_np(lon1, lat1, lon2, lat2):\n",
        "    lon1, lat1, lon2, lat2 = map(np.radians, [lon1, lat1, lon2, lat2])\n",
        "    dlon = lon2 - lon1\n",
        "    dlat = lat2 - lat1\n",
        "\n",
        "    a = np.sin(dlat/2.0)**2 + np.cos(lat1) * np.cos(lat2) * np.sin(dlon/2.0)**2\n",
        "\n",
        "    c = 2 * np.arcsin(np.sqrt(a))\n",
        "    miles = 6367 * c/1.609\n",
        "    return miles"
      ],
      "execution_count": 0,
      "outputs": []
    },
    {
      "cell_type": "code",
      "metadata": {
        "id": "toYAECIYjwpF",
        "colab_type": "code",
        "colab": {
          "base_uri": "https://localhost:8080/",
          "height": 33
        },
        "outputId": "6793002d-f0de-4750-be9b-b42cfa1a390d"
      },
      "source": [
        "#Embassy Suites - 42.370535, -71.031580 (2966)\n",
        "c = dict()\n",
        "for i in range(result.shape[0]):\n",
        "    c[str(result.index[i])] = haversine_np(42.370535, -71.031580, result.iloc[i][0], result.iloc[i][1])\n",
        "cp = min(c, key=c.get)\n",
        "cpdist = c[str(cp)]\n",
        "cp"
      ],
      "execution_count": 11,
      "outputs": [
        {
          "output_type": "execute_result",
          "data": {
            "text/plain": [
              "'2966'"
            ]
          },
          "metadata": {
            "tags": []
          },
          "execution_count": 11
        }
      ]
    },
    {
      "cell_type": "code",
      "metadata": {
        "id": "24UAZUe_nhUg",
        "colab_type": "code",
        "colab": {
          "base_uri": "https://localhost:8080/",
          "height": 33
        },
        "outputId": "1bb0e443-e827-4c6f-8d01-6614eda8d820"
      },
      "source": [
        "#Maverick - 42.370040, -71.037984 (2999)\n",
        "c = dict()\n",
        "for i in range(result.shape[0]):\n",
        "    c[str(result.index[i])] = haversine_np(42.370040, -71.037984, result.iloc[i][0], result.iloc[i][1])\n",
        "cp = min(c, key=c.get)\n",
        "cpdist = c[str(cp)]\n",
        "cp"
      ],
      "execution_count": 12,
      "outputs": [
        {
          "output_type": "execute_result",
          "data": {
            "text/plain": [
              "'2999'"
            ]
          },
          "metadata": {
            "tags": []
          },
          "execution_count": 12
        }
      ]
    },
    {
      "cell_type": "code",
      "metadata": {
        "id": "a_eIDjTDnhSM",
        "colab_type": "code",
        "outputId": "4fde50d4-e41e-409c-81c9-36971fff400c",
        "colab": {
          "base_uri": "https://localhost:8080/",
          "height": 33
        }
      },
      "source": [
        "#Bremen Porter - 42.372441, -71.034753 (4407)\n",
        "c = dict()\n",
        "for i in range(result.shape[0]):\n",
        "    c[str(result.index[i])] = haversine_np(42.372441, -71.034753, result.iloc[i][0], result.iloc[i][1])\n",
        "cp = min(c, key=c.get)\n",
        "cpdist = c[str(cp)]\n",
        "print(cp)"
      ],
      "execution_count": 13,
      "outputs": [
        {
          "output_type": "stream",
          "text": [
            "4407\n"
          ],
          "name": "stdout"
        }
      ]
    },
    {
      "cell_type": "code",
      "metadata": {
        "id": "lHoLBGcDnhPw",
        "colab_type": "code",
        "outputId": "3ee8bc71-9b86-4a05-9e70-79567481c36c",
        "colab": {
          "base_uri": "https://localhost:8080/",
          "height": 33
        }
      },
      "source": [
        "#Cottage Maverick - 42.368331, -71.034753 (2969)\n",
        "c = dict()\n",
        "for i in range(result.shape[0]):\n",
        "    c[str(result.index[i])] = haversine_np(42.368331, -71.034753, result.iloc[i][0], result.iloc[i][1])\n",
        "cp = min(c, key=c.get)\n",
        "cpdist = c[str(cp)]\n",
        "print(cp)"
      ],
      "execution_count": 14,
      "outputs": [
        {
          "output_type": "stream",
          "text": [
            "2969\n"
          ],
          "name": "stdout"
        }
      ]
    },
    {
      "cell_type": "code",
      "metadata": {
        "id": "a_u-zscxnhN3",
        "colab_type": "code",
        "outputId": "c7bef5f7-f54f-43f1-efc8-f2276dbb4bea",
        "colab": {
          "base_uri": "https://localhost:8080/",
          "height": 33
        }
      },
      "source": [
        "#Santarpio Pizzeria - 42.367117, -71.035709 (4210)\n",
        "c = dict()\n",
        "for i in range(result.shape[0]):\n",
        "    c[str(result.index[i])] = haversine_np(42.372823, -71.035345, result.iloc[i][0], result.iloc[i][1])\n",
        "cp = min(c, key=c.get)\n",
        "cpdist = c[str(cp)]\n",
        "print(cp)"
      ],
      "execution_count": 15,
      "outputs": [
        {
          "output_type": "stream",
          "text": [
            "4210\n"
          ],
          "name": "stdout"
        }
      ]
    },
    {
      "cell_type": "code",
      "metadata": {
        "id": "T4VEiDtLnhLD",
        "colab_type": "code",
        "outputId": "3c469ca8-0e31-4c22-a08e-67a7150764d7",
        "colab": {
          "base_uri": "https://localhost:8080/",
          "height": 33
        }
      },
      "source": [
        "#Taco Mexo - 42.369998, -71.038767 (2997)\n",
        "c = dict()\n",
        "for i in range(result.shape[0]):\n",
        "    c[str(result.index[i])] = haversine_np(42.369998, -71.038767, result.iloc[i][0], result.iloc[i][1])\n",
        "cp = min(c, key=c.get)\n",
        "cpdist = c[str(cp)]\n",
        "print(cp)"
      ],
      "execution_count": 16,
      "outputs": [
        {
          "output_type": "stream",
          "text": [
            "2997\n"
          ],
          "name": "stdout"
        }
      ]
    },
    {
      "cell_type": "code",
      "metadata": {
        "id": "r10L0pKSnOvI",
        "colab_type": "code",
        "colab": {}
      },
      "source": [
        "graph_list = [tuple(('Embassy Suites', 'Bremen Porter', haversine_np(42.370535, -71.031580, 42.372441, -71.034753 ))),\n",
        "      tuple(('Embassy Suites', 'Santarpio Pizza', haversine_np(42.370535, -71.031580, 42.367117, -71.035709 ))),\n",
        "      tuple(('Embassy Suites', 'Cottage Maverick', haversine_np(42.370535, -71.031580, 42.368331, -71.034753 ))),\n",
        "      tuple(('Bremen Porter', 'Maverick Cafe', haversine_np(42.372441, -71.034753, 42.370040, -71.037984 ))),\n",
        "      tuple(('Santarpio Pizza', 'Taco Mex', haversine_np(42.367117, -71.035709, 42.369998, -71.038767 ))),\n",
        "      tuple(('Taco Mex', 'Maverick Cafe', haversine_np(42.369998, -71.038767, 42.370040, -71.037984 ))),\n",
        "      tuple(('Cottage Maverick', 'Maverick Cafe', haversine_np(42.368331, -71.034753, 42.370040, -71.037984 )))]"
      ],
      "execution_count": 0,
      "outputs": []
    },
    {
      "cell_type": "code",
      "metadata": {
        "id": "8LjkML3Ns0C-",
        "colab_type": "code",
        "outputId": "d94cf2c8-ec12-4da1-a72f-0091f11922f9",
        "colab": {
          "base_uri": "https://localhost:8080/",
          "height": 133
        }
      },
      "source": [
        "graph_list"
      ],
      "execution_count": 18,
      "outputs": [
        {
          "output_type": "execute_result",
          "data": {
            "text/plain": [
              "[('Embassy Suites', 'Bremen Porter', 0.2232798672741459),\n",
              " ('Embassy Suites', 'Santarpio Pizza', 0.29530898103753117),\n",
              " ('Embassy Suites', 'Cottage Maverick', 0.22465763258142837),\n",
              " ('Bremen Porter', 'Maverick Cafe', 0.22956248279508543),\n",
              " ('Santarpio Pizza', 'Taco Mex', 0.22087556293653007),\n",
              " ('Taco Mex', 'Maverick Cafe', 0.05408587892833907),\n",
              " ('Cottage Maverick', 'Maverick Cafe', 0.2264205815462706)]"
            ]
          },
          "metadata": {
            "tags": []
          },
          "execution_count": 18
        }
      ]
    },
    {
      "cell_type": "code",
      "metadata": {
        "id": "AihaUerXPeCL",
        "colab_type": "code",
        "colab": {}
      },
      "source": [
        "#Final Dijkstria\n",
        "\n",
        "from collections import deque, namedtuple\n",
        "\n",
        "\n",
        "# we'll use infinity as a default distance to nodes.\n",
        "inf = float('inf')\n",
        "Edge = namedtuple('Edge', 'start, end, cost')\n",
        "\n",
        "\n",
        "def make_edge(start, end, cost=1):\n",
        "  return Edge(start, end, cost)\n",
        "\n",
        "\n",
        "class Graph:\n",
        "    def __init__(self, edges):\n",
        "        # let's check that the data is right\n",
        "        wrong_edges = [i for i in edges if len(i) not in [2, 3]]\n",
        "        if wrong_edges:\n",
        "            raise ValueError('Wrong edges data: {}'.format(wrong_edges))\n",
        "\n",
        "        self.edges = [make_edge(*edge) for edge in edges]\n",
        "\n",
        "    @property\n",
        "    def vertices(self):\n",
        "        return set(\n",
        "            sum(\n",
        "                ([edge.start, edge.end] for edge in self.edges), []\n",
        "            )\n",
        "        )\n",
        "\n",
        "    def get_node_pairs(self, n1, n2, both_ends=True):\n",
        "        if both_ends:\n",
        "            node_pairs = [[n1, n2], [n2, n1]]\n",
        "        else:\n",
        "            node_pairs = [[n1, n2]]\n",
        "        return node_pairs\n",
        "\n",
        "    def remove_edge(self, n1, n2, both_ends=True):\n",
        "        node_pairs = self.get_node_pairs(n1, n2, both_ends)\n",
        "        edges = self.edges[:]\n",
        "        for edge in edges:\n",
        "            if [edge.start, edge.end] in node_pairs:\n",
        "                self.edges.remove(edge)\n",
        "\n",
        "    def add_edge(self, n1, n2, cost=1, both_ends=True):\n",
        "        node_pairs = self.get_node_pairs(n1, n2, both_ends)\n",
        "        for edge in self.edges:\n",
        "            if [edge.start, edge.end] in node_pairs:\n",
        "                return ValueError('Edge {} {} already exists'.format(n1, n2))\n",
        "\n",
        "        self.edges.append(Edge(start=n1, end=n2, cost=cost))\n",
        "        if both_ends:\n",
        "            self.edges.append(Edge(start=n2, end=n1, cost=cost))\n",
        "\n",
        "    @property\n",
        "    def neighbours(self):\n",
        "        neighbours = {vertex: set() for vertex in self.vertices}\n",
        "        for edge in self.edges:\n",
        "            neighbours[edge.start].add((edge.end, edge.cost))\n",
        "\n",
        "        return neighbours\n",
        "\n",
        "    def dijkstra(self, source, dest):\n",
        "        assert source in self.vertices, 'Such source node doesn\\'t exist'\n",
        "        distances = {vertex: inf for vertex in self.vertices}\n",
        "        previous_vertices = {\n",
        "            vertex: None for vertex in self.vertices\n",
        "        }\n",
        "        distances[source] = 0\n",
        "        vertices = self.vertices.copy()\n",
        "\n",
        "        while vertices:\n",
        "            current_vertex = min(\n",
        "                vertices, key=lambda vertex: distances[vertex])\n",
        "            vertices.remove(current_vertex)\n",
        "            if distances[current_vertex] == inf:\n",
        "                break\n",
        "            for neighbour, cost in self.neighbours[current_vertex]:\n",
        "                alternative_route = distances[current_vertex] + cost\n",
        "                if alternative_route < distances[neighbour]:\n",
        "                    distances[neighbour] = alternative_route\n",
        "                    previous_vertices[neighbour] = current_vertex\n",
        "\n",
        "        path, current_vertex = deque(), dest\n",
        "        while previous_vertices[current_vertex] is not None:\n",
        "            path.appendleft(current_vertex)\n",
        "            current_vertex = previous_vertices[current_vertex]\n",
        "        if path:\n",
        "            path.appendleft(current_vertex)\n",
        "        return path\n",
        "\n"
      ],
      "execution_count": 0,
      "outputs": []
    },
    {
      "cell_type": "code",
      "metadata": {
        "id": "tSMksaNys0IO",
        "colab_type": "code",
        "outputId": "64d5e126-7a4c-4284-ed5e-cca316f641ce",
        "colab": {
          "base_uri": "https://localhost:8080/",
          "height": 33
        }
      },
      "source": [
        "graph = Graph(graph_list)\n",
        "print(graph.dijkstra(\"Embassy Suites\", \"Maverick Cafe\"))"
      ],
      "execution_count": 25,
      "outputs": [
        {
          "output_type": "stream",
          "text": [
            "deque(['Embassy Suites', 'Cottage Maverick', 'Maverick Cafe'])\n"
          ],
          "name": "stdout"
        }
      ]
    },
    {
      "cell_type": "code",
      "metadata": {
        "id": "vpEQMrJ4sz_h",
        "colab_type": "code",
        "colab": {}
      },
      "source": [
        ""
      ],
      "execution_count": 0,
      "outputs": []
    },
    {
      "cell_type": "code",
      "metadata": {
        "id": "_G6wUnY5QmDP",
        "colab_type": "code",
        "colab": {}
      },
      "source": [
        ""
      ],
      "execution_count": 0,
      "outputs": []
    },
    {
      "cell_type": "code",
      "metadata": {
        "id": "VVhIMOWLQmBA",
        "colab_type": "code",
        "colab": {}
      },
      "source": [
        "####### failed attempts at graph generation from here on\n",
        "####### Just for reference\n",
        "####### DO NOT USE"
      ],
      "execution_count": 0,
      "outputs": []
    },
    {
      "cell_type": "markdown",
      "metadata": {
        "id": "xQp0aMv4RR8O",
        "colab_type": "text"
      },
      "source": [
        ""
      ]
    },
    {
      "cell_type": "code",
      "metadata": {
        "id": "wKtKHEFgWWXN",
        "colab_type": "code",
        "outputId": "d7c54eb7-e119-44a8-fa83-61413bf73704",
        "colab": {
          "base_uri": "https://localhost:8080/",
          "height": 1000
        }
      },
      "source": [
        "#final final code\n",
        "from collections import Counter \n",
        "\n",
        "graph_list = []\n",
        "start = sample.iloc[[random.choice(list(range(sample.shape[0])))]]\n",
        "others = sample.drop(start.index[0])\n",
        "\n",
        "while len(graph_list) < 100:\n",
        "\n",
        "  dist_start_others = dict()\n",
        "  for i in range(others.shape[0]):\n",
        "      dist_start_others[str(others.index[i])] = haversine_np(start.iloc[0][0], start.iloc[0][1], others.iloc[i][0], others.iloc[i][1])\n",
        "\n",
        "  p11 = min(dist_start_others, key=dist_start_others.get)\n",
        "  p11dist = dist_start_others[str(p11)]\n",
        "  layer_1 = dict()\n",
        "  layer_1[int(p11)] = p11dist\n",
        "\n",
        "  del dist_start_others[str(p11)]\n",
        "\n",
        "  p12 = min(dist_start_others, key=dist_start_others.get)\n",
        "  p12dist = dist_start_others[str(p12)]\n",
        "  layer_1[int(p12)] = p12dist\n",
        "\n",
        "\n",
        "  graph_list.append(tuple((str(start.index[0]), p11,  p11dist )))\n",
        "  graph_list.append(tuple((str(start.index[0]), p12,  p12dist )))\n",
        "\n",
        "\n",
        "  #layer11\n",
        "  to_drop = []\n",
        "  for j in range(len(list(layer_1.keys()))):\n",
        "    to_drop.append(int(list(layer_1.keys())[j]))\n",
        "  others_11 = others.drop(to_drop)\n",
        "  node_11 = sample.iloc[[int(p11)]]\n",
        "  dist_11_2 = dict()\n",
        "  for i in range(others_11.shape[0]):\n",
        "      dist_11_2[str(others_11.index[i])] = haversine_np(node_11.iloc[0][0], node_11.iloc[0][1], others_11.iloc[i][0], others_11.iloc[i][1])\n",
        "\n",
        "  p21 = min(dist_11_2, key=dist_11_2.get)\n",
        "  p21dist = dist_11_2[str(p21)]\n",
        "  layer_2u = dict()\n",
        "  layer_2u[int(p21)] = p21dist\n",
        "\n",
        "  del dist_11_2[str(p21)]\n",
        "\n",
        "  p22 = min(dist_11_2, key=dist_11_2.get)\n",
        "  p22dist = dist_11_2[str(p22)]\n",
        "  layer_2u[int(p22)] = p22dist\n",
        "\n",
        "\n",
        "  graph_list.append(tuple((str(node_11.index[0]), p21,  p21dist )))\n",
        "  graph_list.append(tuple((str(node_11.index[0]), p22,  p22dist )))\n",
        "\n",
        "\n",
        "\n",
        "  #layer12\n",
        "  to_drop = []\n",
        "  for j in range(len(list(layer_2u.keys()))):\n",
        "    to_drop.append(int(list(layer_2u.keys())[j]))\n",
        "  others_12 = others_11.drop(to_drop)\n",
        "  node_12 = sample.iloc[[int(p12)]]\n",
        "  dist_12_2 = dict()\n",
        "  for i in range(others_12.shape[0]):\n",
        "      dist_12_2[str(others_12.index[i])] = haversine_np(node_12.iloc[0][0], node_12.iloc[0][1], others_12.iloc[i][0], others_12.iloc[i][1])\n",
        "\n",
        "  p23 = min(dist_12_2, key=dist_12_2.get)\n",
        "  p23dist = dist_12_2[str(p23)]\n",
        "  layer_2l = dict()\n",
        "  layer_2l[int(p23)] = p23dist\n",
        "\n",
        "  del dist_12_2[str(p23)]\n",
        "\n",
        "  p24 = min(dist_12_2, key=dist_12_2.get)\n",
        "  p24dist = dist_12_2[str(p24)]\n",
        "  layer_2l[int(p24)] = p24dist\n",
        "\n",
        "\n",
        "  graph_list.append(tuple((str(node_12.index[0]), p23,  p23dist )))\n",
        "  graph_list.append(tuple((str(node_12.index[0]), p24,  p24dist )))\n",
        "\n",
        "\n",
        "  #Layer-2\n",
        "  to_drop = []\n",
        "  for j in range(len(list(layer_2l.keys()))):\n",
        "    to_drop.append(int(list(layer_2l.keys())[j]))\n",
        "  others_2 = others_12.drop(to_drop)\n",
        "  node_21 = sample.iloc[[int(p21)]]\n",
        "  node_22 = sample.iloc[[int(p22)]]\n",
        "  node_23 = sample.iloc[[int(p23)]]\n",
        "  node_24 = sample.iloc[[int(p24)]]\n",
        "\n",
        "  dist_2_3 = dict()\n",
        "  for i in range(others_2.shape[0]):\n",
        "      dist_2_3[str(others_2.index[i])] = haversine_np(node_21.iloc[0][0], node_21.iloc[0][1], others_2.iloc[i][0], others_2.iloc[i][1]) + haversine_np(node_22.iloc[0][0], node_22.iloc[0][1], others_2.iloc[i][0], others_2.iloc[i][1]) + haversine_np(node_23.iloc[0][0], node_23.iloc[0][1], others_2.iloc[i][0], others_2.iloc[i][1]) + haversine_np(node_24.iloc[0][0], node_24.iloc[0][1], others_2.iloc[i][0], others_2.iloc[i][1])\n",
        "\n",
        "  p3 = min(dist_2_3, key=dist_2_3.get)\n",
        "  p3dist = dist_2_3[str(p3)]\n",
        "  layer_3 = dict()\n",
        "  layer_3[int(p3)] = p3dist\n",
        "\n",
        "  graph_list.append(tuple((str(node_21.index[0]), p3,  haversine_np(node_21.iloc[0][0], node_21.iloc[0][1], others_2.iloc[int(p3)][0], others_2.iloc[int(p3)][1]) )))\n",
        "  graph_list.append(tuple((str(node_22.index[0]), p3,  haversine_np(node_22.iloc[0][0], node_22.iloc[0][1], others_2.iloc[int(p3)][0], others_2.iloc[int(p3)][1]) )))\n",
        "  graph_list.append(tuple((str(node_23.index[0]), p3,  haversine_np(node_23.iloc[0][0], node_23.iloc[0][1], others_2.iloc[int(p3)][0], others_2.iloc[int(p3)][1]) )))\n",
        "  graph_list.append(tuple((str(node_24.index[0]), p3,  haversine_np(node_24.iloc[0][0], node_24.iloc[0][1], others_2.iloc[int(p3)][0], others_2.iloc[int(p3)][1]) )))\n",
        "\n",
        "  others_3 = others_2.drop(int(p3))\n",
        "\n",
        "  start = sample.iloc[[int(p3)]]\n",
        "  others = others_3\n",
        "  print(len(graph_list))"
      ],
      "execution_count": 0,
      "outputs": [
        {
          "output_type": "error",
          "ename": "IndexError",
          "evalue": "ignored",
          "traceback": [
            "\u001b[0;31m---------------------------------------------------------------------------\u001b[0m",
            "\u001b[0;31mIndexError\u001b[0m                                Traceback (most recent call last)",
            "\u001b[0;32m/usr/local/lib/python3.6/dist-packages/pandas/core/indexing.py\u001b[0m in \u001b[0;36m_get_list_axis\u001b[0;34m(self, key, axis)\u001b[0m\n\u001b[1;32m   2129\u001b[0m         \u001b[0;32mtry\u001b[0m\u001b[0;34m:\u001b[0m\u001b[0;34m\u001b[0m\u001b[0;34m\u001b[0m\u001b[0m\n\u001b[0;32m-> 2130\u001b[0;31m             \u001b[0;32mreturn\u001b[0m \u001b[0mself\u001b[0m\u001b[0;34m.\u001b[0m\u001b[0mobj\u001b[0m\u001b[0;34m.\u001b[0m\u001b[0mtake\u001b[0m\u001b[0;34m(\u001b[0m\u001b[0mkey\u001b[0m\u001b[0;34m,\u001b[0m \u001b[0maxis\u001b[0m\u001b[0;34m=\u001b[0m\u001b[0maxis\u001b[0m\u001b[0;34m)\u001b[0m\u001b[0;34m\u001b[0m\u001b[0;34m\u001b[0m\u001b[0m\n\u001b[0m\u001b[1;32m   2131\u001b[0m         \u001b[0;32mexcept\u001b[0m \u001b[0mIndexError\u001b[0m\u001b[0;34m:\u001b[0m\u001b[0;34m\u001b[0m\u001b[0;34m\u001b[0m\u001b[0m\n",
            "\u001b[0;32m/usr/local/lib/python3.6/dist-packages/pandas/core/generic.py\u001b[0m in \u001b[0;36mtake\u001b[0;34m(self, indices, axis, is_copy, **kwargs)\u001b[0m\n\u001b[1;32m   3603\u001b[0m         new_data = self._data.take(\n\u001b[0;32m-> 3604\u001b[0;31m             \u001b[0mindices\u001b[0m\u001b[0;34m,\u001b[0m \u001b[0maxis\u001b[0m\u001b[0;34m=\u001b[0m\u001b[0mself\u001b[0m\u001b[0;34m.\u001b[0m\u001b[0m_get_block_manager_axis\u001b[0m\u001b[0;34m(\u001b[0m\u001b[0maxis\u001b[0m\u001b[0;34m)\u001b[0m\u001b[0;34m,\u001b[0m \u001b[0mverify\u001b[0m\u001b[0;34m=\u001b[0m\u001b[0;32mTrue\u001b[0m\u001b[0;34m\u001b[0m\u001b[0;34m\u001b[0m\u001b[0m\n\u001b[0m\u001b[1;32m   3605\u001b[0m         )\n",
            "\u001b[0;32m/usr/local/lib/python3.6/dist-packages/pandas/core/internals/managers.py\u001b[0m in \u001b[0;36mtake\u001b[0;34m(self, indexer, axis, verify, convert)\u001b[0m\n\u001b[1;32m   1388\u001b[0m         \u001b[0;32mif\u001b[0m \u001b[0mconvert\u001b[0m\u001b[0;34m:\u001b[0m\u001b[0;34m\u001b[0m\u001b[0;34m\u001b[0m\u001b[0m\n\u001b[0;32m-> 1389\u001b[0;31m             \u001b[0mindexer\u001b[0m \u001b[0;34m=\u001b[0m \u001b[0mmaybe_convert_indices\u001b[0m\u001b[0;34m(\u001b[0m\u001b[0mindexer\u001b[0m\u001b[0;34m,\u001b[0m \u001b[0mn\u001b[0m\u001b[0;34m)\u001b[0m\u001b[0;34m\u001b[0m\u001b[0;34m\u001b[0m\u001b[0m\n\u001b[0m\u001b[1;32m   1390\u001b[0m \u001b[0;34m\u001b[0m\u001b[0m\n",
            "\u001b[0;32m/usr/local/lib/python3.6/dist-packages/pandas/core/indexers.py\u001b[0m in \u001b[0;36mmaybe_convert_indices\u001b[0;34m(indices, n)\u001b[0m\n\u001b[1;32m    200\u001b[0m     \u001b[0;32mif\u001b[0m \u001b[0mmask\u001b[0m\u001b[0;34m.\u001b[0m\u001b[0many\u001b[0m\u001b[0;34m(\u001b[0m\u001b[0;34m)\u001b[0m\u001b[0;34m:\u001b[0m\u001b[0;34m\u001b[0m\u001b[0;34m\u001b[0m\u001b[0m\n\u001b[0;32m--> 201\u001b[0;31m         \u001b[0;32mraise\u001b[0m \u001b[0mIndexError\u001b[0m\u001b[0;34m(\u001b[0m\u001b[0;34m\"indices are out-of-bounds\"\u001b[0m\u001b[0;34m)\u001b[0m\u001b[0;34m\u001b[0m\u001b[0;34m\u001b[0m\u001b[0m\n\u001b[0m\u001b[1;32m    202\u001b[0m     \u001b[0;32mreturn\u001b[0m \u001b[0mindices\u001b[0m\u001b[0;34m\u001b[0m\u001b[0;34m\u001b[0m\u001b[0m\n",
            "\u001b[0;31mIndexError\u001b[0m: indices are out-of-bounds",
            "\nDuring handling of the above exception, another exception occurred:\n",
            "\u001b[0;31mIndexError\u001b[0m                                Traceback (most recent call last)",
            "\u001b[0;32m<ipython-input-146-f46b0f9d0763>\u001b[0m in \u001b[0;36m<module>\u001b[0;34m()\u001b[0m\n\u001b[1;32m     32\u001b[0m     \u001b[0mto_drop\u001b[0m\u001b[0;34m.\u001b[0m\u001b[0mappend\u001b[0m\u001b[0;34m(\u001b[0m\u001b[0mint\u001b[0m\u001b[0;34m(\u001b[0m\u001b[0mlist\u001b[0m\u001b[0;34m(\u001b[0m\u001b[0mlayer_1\u001b[0m\u001b[0;34m.\u001b[0m\u001b[0mkeys\u001b[0m\u001b[0;34m(\u001b[0m\u001b[0;34m)\u001b[0m\u001b[0;34m)\u001b[0m\u001b[0;34m[\u001b[0m\u001b[0mj\u001b[0m\u001b[0;34m]\u001b[0m\u001b[0;34m)\u001b[0m\u001b[0;34m)\u001b[0m\u001b[0;34m\u001b[0m\u001b[0;34m\u001b[0m\u001b[0m\n\u001b[1;32m     33\u001b[0m   \u001b[0mothers_11\u001b[0m \u001b[0;34m=\u001b[0m \u001b[0mothers\u001b[0m\u001b[0;34m.\u001b[0m\u001b[0mdrop\u001b[0m\u001b[0;34m(\u001b[0m\u001b[0mto_drop\u001b[0m\u001b[0;34m)\u001b[0m\u001b[0;34m\u001b[0m\u001b[0;34m\u001b[0m\u001b[0m\n\u001b[0;32m---> 34\u001b[0;31m   \u001b[0mnode_11\u001b[0m \u001b[0;34m=\u001b[0m \u001b[0msample\u001b[0m\u001b[0;34m.\u001b[0m\u001b[0miloc\u001b[0m\u001b[0;34m[\u001b[0m\u001b[0;34m[\u001b[0m\u001b[0mint\u001b[0m\u001b[0;34m(\u001b[0m\u001b[0mp11\u001b[0m\u001b[0;34m)\u001b[0m\u001b[0;34m]\u001b[0m\u001b[0;34m]\u001b[0m\u001b[0;34m\u001b[0m\u001b[0;34m\u001b[0m\u001b[0m\n\u001b[0m\u001b[1;32m     35\u001b[0m   \u001b[0mdist_11_2\u001b[0m \u001b[0;34m=\u001b[0m \u001b[0mdict\u001b[0m\u001b[0;34m(\u001b[0m\u001b[0;34m)\u001b[0m\u001b[0;34m\u001b[0m\u001b[0;34m\u001b[0m\u001b[0m\n\u001b[1;32m     36\u001b[0m   \u001b[0;32mfor\u001b[0m \u001b[0mi\u001b[0m \u001b[0;32min\u001b[0m \u001b[0mrange\u001b[0m\u001b[0;34m(\u001b[0m\u001b[0mothers_11\u001b[0m\u001b[0;34m.\u001b[0m\u001b[0mshape\u001b[0m\u001b[0;34m[\u001b[0m\u001b[0;36m0\u001b[0m\u001b[0;34m]\u001b[0m\u001b[0;34m)\u001b[0m\u001b[0;34m:\u001b[0m\u001b[0;34m\u001b[0m\u001b[0;34m\u001b[0m\u001b[0m\n",
            "\u001b[0;32m/usr/local/lib/python3.6/dist-packages/pandas/core/indexing.py\u001b[0m in \u001b[0;36m__getitem__\u001b[0;34m(self, key)\u001b[0m\n\u001b[1;32m   1422\u001b[0m \u001b[0;34m\u001b[0m\u001b[0m\n\u001b[1;32m   1423\u001b[0m             \u001b[0mmaybe_callable\u001b[0m \u001b[0;34m=\u001b[0m \u001b[0mcom\u001b[0m\u001b[0;34m.\u001b[0m\u001b[0mapply_if_callable\u001b[0m\u001b[0;34m(\u001b[0m\u001b[0mkey\u001b[0m\u001b[0;34m,\u001b[0m \u001b[0mself\u001b[0m\u001b[0;34m.\u001b[0m\u001b[0mobj\u001b[0m\u001b[0;34m)\u001b[0m\u001b[0;34m\u001b[0m\u001b[0;34m\u001b[0m\u001b[0m\n\u001b[0;32m-> 1424\u001b[0;31m             \u001b[0;32mreturn\u001b[0m \u001b[0mself\u001b[0m\u001b[0;34m.\u001b[0m\u001b[0m_getitem_axis\u001b[0m\u001b[0;34m(\u001b[0m\u001b[0mmaybe_callable\u001b[0m\u001b[0;34m,\u001b[0m \u001b[0maxis\u001b[0m\u001b[0;34m=\u001b[0m\u001b[0maxis\u001b[0m\u001b[0;34m)\u001b[0m\u001b[0;34m\u001b[0m\u001b[0;34m\u001b[0m\u001b[0m\n\u001b[0m\u001b[1;32m   1425\u001b[0m \u001b[0;34m\u001b[0m\u001b[0m\n\u001b[1;32m   1426\u001b[0m     \u001b[0;32mdef\u001b[0m \u001b[0m_is_scalar_access\u001b[0m\u001b[0;34m(\u001b[0m\u001b[0mself\u001b[0m\u001b[0;34m,\u001b[0m \u001b[0mkey\u001b[0m\u001b[0;34m:\u001b[0m \u001b[0mTuple\u001b[0m\u001b[0;34m)\u001b[0m\u001b[0;34m:\u001b[0m\u001b[0;34m\u001b[0m\u001b[0;34m\u001b[0m\u001b[0m\n",
            "\u001b[0;32m/usr/local/lib/python3.6/dist-packages/pandas/core/indexing.py\u001b[0m in \u001b[0;36m_getitem_axis\u001b[0;34m(self, key, axis)\u001b[0m\n\u001b[1;32m   2146\u001b[0m         \u001b[0;31m# a list of integers\u001b[0m\u001b[0;34m\u001b[0m\u001b[0;34m\u001b[0m\u001b[0;34m\u001b[0m\u001b[0m\n\u001b[1;32m   2147\u001b[0m         \u001b[0;32melif\u001b[0m \u001b[0mis_list_like_indexer\u001b[0m\u001b[0;34m(\u001b[0m\u001b[0mkey\u001b[0m\u001b[0;34m)\u001b[0m\u001b[0;34m:\u001b[0m\u001b[0;34m\u001b[0m\u001b[0;34m\u001b[0m\u001b[0m\n\u001b[0;32m-> 2148\u001b[0;31m             \u001b[0;32mreturn\u001b[0m \u001b[0mself\u001b[0m\u001b[0;34m.\u001b[0m\u001b[0m_get_list_axis\u001b[0m\u001b[0;34m(\u001b[0m\u001b[0mkey\u001b[0m\u001b[0;34m,\u001b[0m \u001b[0maxis\u001b[0m\u001b[0;34m=\u001b[0m\u001b[0maxis\u001b[0m\u001b[0;34m)\u001b[0m\u001b[0;34m\u001b[0m\u001b[0;34m\u001b[0m\u001b[0m\n\u001b[0m\u001b[1;32m   2149\u001b[0m \u001b[0;34m\u001b[0m\u001b[0m\n\u001b[1;32m   2150\u001b[0m         \u001b[0;31m# a single integer\u001b[0m\u001b[0;34m\u001b[0m\u001b[0;34m\u001b[0m\u001b[0;34m\u001b[0m\u001b[0m\n",
            "\u001b[0;32m/usr/local/lib/python3.6/dist-packages/pandas/core/indexing.py\u001b[0m in \u001b[0;36m_get_list_axis\u001b[0;34m(self, key, axis)\u001b[0m\n\u001b[1;32m   2131\u001b[0m         \u001b[0;32mexcept\u001b[0m \u001b[0mIndexError\u001b[0m\u001b[0;34m:\u001b[0m\u001b[0;34m\u001b[0m\u001b[0;34m\u001b[0m\u001b[0m\n\u001b[1;32m   2132\u001b[0m             \u001b[0;31m# re-raise with different error message\u001b[0m\u001b[0;34m\u001b[0m\u001b[0;34m\u001b[0m\u001b[0;34m\u001b[0m\u001b[0m\n\u001b[0;32m-> 2133\u001b[0;31m             \u001b[0;32mraise\u001b[0m \u001b[0mIndexError\u001b[0m\u001b[0;34m(\u001b[0m\u001b[0;34m\"positional indexers are out-of-bounds\"\u001b[0m\u001b[0;34m)\u001b[0m\u001b[0;34m\u001b[0m\u001b[0;34m\u001b[0m\u001b[0m\n\u001b[0m\u001b[1;32m   2134\u001b[0m \u001b[0;34m\u001b[0m\u001b[0m\n\u001b[1;32m   2135\u001b[0m     \u001b[0;32mdef\u001b[0m \u001b[0m_getitem_axis\u001b[0m\u001b[0;34m(\u001b[0m\u001b[0mself\u001b[0m\u001b[0;34m,\u001b[0m \u001b[0mkey\u001b[0m\u001b[0;34m,\u001b[0m \u001b[0maxis\u001b[0m\u001b[0;34m:\u001b[0m \u001b[0mint\u001b[0m\u001b[0;34m)\u001b[0m\u001b[0;34m:\u001b[0m\u001b[0;34m\u001b[0m\u001b[0;34m\u001b[0m\u001b[0m\n",
            "\u001b[0;31mIndexError\u001b[0m: positional indexers are out-of-bounds"
          ]
        }
      ]
    },
    {
      "cell_type": "code",
      "metadata": {
        "id": "94HtKaMr05Bx",
        "colab_type": "code",
        "colab": {}
      },
      "source": [
        "start = sample.iloc[[0]]\n",
        "others = sample.drop(start.index[0])\n",
        "graph_list = []\n",
        "\n",
        "dist_start_others = dict()\n",
        "for i in range(others.shape[0]):\n",
        "    dist_start_others[str(others.index[i])] = haversine_np(start.iloc[0][0], start.iloc[0][1], others.iloc[i][0], others.iloc[i][1])\n",
        "\n",
        "p11 = min(dist_start_others, key=dist_start_others.get)\n",
        "p11dist = dist_start_others[str(p11)]\n",
        "layer_1 = dict()\n",
        "layer_1[int(p11)] = p11dist\n",
        "\n",
        "del dist_start_others[str(p11)]\n",
        "\n",
        "p12 = min(dist_start_others, key=dist_start_others.get)\n",
        "p12dist = dist_start_others[str(p12)]\n",
        "layer_1[int(p12)] = p12dist\n",
        "\n",
        "graph_list.append(tuple((str(start.index[0]), p11,  p11dist )))\n",
        "graph_list.append(tuple((str(start.index[0]), p12,  p12dist )))\n",
        "\n",
        "graph_list.append(tuple(('9924', '10000', 0.5)))\n",
        "graph_list.append(tuple(('9923', '10000', 0.5)))\n"
      ],
      "execution_count": 0,
      "outputs": []
    },
    {
      "cell_type": "code",
      "metadata": {
        "id": "vILQF6sz07-c",
        "colab_type": "code",
        "colab": {}
      },
      "source": [
        "dist_dict = dict()\n",
        "graphlist2 = []\n",
        "start = sample.iloc[[0]]\n",
        "#ct = 1\n",
        "others = sample.drop(start.index[0])\n",
        "\n",
        "for i in range(others):\n",
        "  \n",
        "\n",
        "\n",
        "others = sample.iloc[random.sample(list(range(sample.shape[0])), k = 3)]\n",
        "for j in range(others.shape[0]):\n",
        "  to_compare = others.iloc[[j]]\n",
        "  dist = haversine_np(start.iloc[0][0], start.iloc[0][1], to_compare.iloc[0][0], to_compare.iloc[0][1])\n",
        "  graphlist2.append(tuple((str(start.index[0]), str(to_compare.index[0]),  dist )))\n",
        "\n",
        "for k in range(others.shape[0]):\n",
        "  start = others.iloc[[k]]\n",
        "\n"
      ],
      "execution_count": 0,
      "outputs": []
    }
  ]
}